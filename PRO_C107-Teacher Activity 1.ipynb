{
  "nbformat": 4,
  "nbformat_minor": 0,
  "metadata": {
    "colab": {
      "provenance": [],
      "include_colab_link": true
    },
    "kernelspec": {
      "name": "python3",
      "display_name": "Python 3"
    },
    "language_info": {
      "name": "python"
    }
  },
  "cells": [
    {
      "cell_type": "markdown",
      "metadata": {
        "id": "view-in-github",
        "colab_type": "text"
      },
      "source": [
        "<a href=\"https://colab.research.google.com/github/Namrata12yamini/C12-TA/blob/main/PRO_C107-Teacher%20Activity%201.ipynb\" target=\"_parent\"><img src=\"https://colab.research.google.com/assets/colab-badge.svg\" alt=\"Open In Colab\"/></a>"
      ]
    },
    {
      "cell_type": "markdown",
      "source": [
        "#### A List of Numbers\n"
      ],
      "metadata": {
        "id": "sEk7wllU5f1S"
      }
    },
    {
      "cell_type": "code",
      "source": [
        "list1 = [90, 95, 92, 97, 99]"
      ],
      "metadata": {
        "id": "POlEcPH151R_"
      },
      "execution_count": null,
      "outputs": []
    },
    {
      "cell_type": "code",
      "metadata": {
        "colab": {
          "base_uri": "https://localhost:8080/"
        },
        "id": "1JfFJLChUVtu",
        "outputId": "ef9350d8-2485-4bb2-9441-d22926fb3bff"
      },
      "source": [
        "print(list1)"
      ],
      "execution_count": null,
      "outputs": [
        {
          "output_type": "stream",
          "text": [
            "[90, 95, 92, 97, 99]\n"
          ],
          "name": "stdout"
        }
      ]
    },
    {
      "cell_type": "markdown",
      "metadata": {
        "id": "wWrXbqnGEiyY"
      },
      "source": [
        "#### A list of Strings"
      ]
    },
    {
      "cell_type": "code",
      "metadata": {
        "id": "JIbnkpwK5_o_"
      },
      "source": [
        "list2= [\"WhiteHatJr\", \"Coding\", \"Classes\"]"
      ],
      "execution_count": null,
      "outputs": []
    },
    {
      "cell_type": "code",
      "metadata": {
        "colab": {
          "base_uri": "https://localhost:8080/"
        },
        "id": "aVyAd71kFNHg",
        "outputId": "595a03ae-949e-4cb6-bd97-827f89d08cec"
      },
      "source": [
        "len(list2)"
      ],
      "execution_count": null,
      "outputs": [
        {
          "output_type": "execute_result",
          "data": {
            "text/plain": [
              "3"
            ]
          },
          "metadata": {
            "tags": []
          },
          "execution_count": 77
        }
      ]
    },
    {
      "cell_type": "code",
      "metadata": {
        "colab": {
          "base_uri": "https://localhost:8080/"
        },
        "id": "BruXEioEFMQV",
        "outputId": "7b896d7c-4c9a-4322-ffbe-7e18d645364f"
      },
      "source": [
        "list2"
      ],
      "execution_count": null,
      "outputs": [
        {
          "output_type": "execute_result",
          "data": {
            "text/plain": [
              "['WhiteHatJr', 'Coding', 'Classes']"
            ]
          },
          "metadata": {
            "tags": []
          },
          "execution_count": 78
        }
      ]
    },
    {
      "cell_type": "markdown",
      "metadata": {
        "id": "glVsmH_E24KA"
      },
      "source": [
        "### Indexing in List\n",
        "\n",
        "\n",
        "*   **positive** index\n",
        "        starts from 0 at begining of the list\n",
        "\n",
        "\n",
        "\n",
        "*   **negative** index\n",
        "        starts from -1 at the end of the list\n",
        "\n"
      ]
    },
    {
      "cell_type": "markdown",
      "metadata": {
        "id": "T64L-CVGlIG3"
      },
      "source": [
        "### Index of an element\n",
        "\n",
        "index() method can be used to get the index of an element from the begining of any list."
      ]
    },
    {
      "cell_type": "code",
      "metadata": {
        "colab": {
          "base_uri": "https://localhost:8080/"
        },
        "id": "zCfqxiVHlHmc",
        "outputId": "8a79ca97-7cff-4456-8c0c-6ad833d0a715"
      },
      "source": [
        "list1.index(95)"
      ],
      "execution_count": null,
      "outputs": [
        {
          "output_type": "execute_result",
          "data": {
            "text/plain": [
              "1"
            ]
          },
          "metadata": {
            "tags": []
          },
          "execution_count": 79
        }
      ]
    },
    {
      "cell_type": "markdown",
      "metadata": {
        "id": "HsAalUUz7EzA"
      },
      "source": [
        "### Accessing list element using Positive Index\n",
        "\n"
      ]
    },
    {
      "cell_type": "code",
      "metadata": {
        "colab": {
          "base_uri": "https://localhost:8080/"
        },
        "id": "SpvFtmbM3QPa",
        "outputId": "f6c79af2-6ffd-400a-e10a-c63d6da7d061"
      },
      "source": [
        "list1[0]\n"
      ],
      "execution_count": null,
      "outputs": [
        {
          "output_type": "execute_result",
          "data": {
            "text/plain": [
              "90"
            ]
          },
          "metadata": {
            "tags": []
          },
          "execution_count": 80
        }
      ]
    },
    {
      "cell_type": "code",
      "metadata": {
        "colab": {
          "base_uri": "https://localhost:8080/",
          "height": 35
        },
        "id": "pLm2T8Qj9D-v",
        "outputId": "df29342f-6081-4432-813f-fac26ae812a7"
      },
      "source": [
        "list2[0]"
      ],
      "execution_count": null,
      "outputs": [
        {
          "output_type": "execute_result",
          "data": {
            "application/vnd.google.colaboratory.intrinsic+json": {
              "type": "string"
            },
            "text/plain": [
              "'WhiteHatJr'"
            ]
          },
          "metadata": {
            "tags": []
          },
          "execution_count": 81
        }
      ]
    },
    {
      "cell_type": "markdown",
      "metadata": {
        "id": "aRldNRDKo8wA"
      },
      "source": [
        "### Accessing list element using Negative Index\n"
      ]
    },
    {
      "cell_type": "code",
      "metadata": {
        "colab": {
          "base_uri": "https://localhost:8080/"
        },
        "id": "h2oNgEHn6buk",
        "outputId": "e498559f-b7e0-407f-982a-6e6e92164535"
      },
      "source": [
        "list1[-1]\n"
      ],
      "execution_count": null,
      "outputs": [
        {
          "output_type": "execute_result",
          "data": {
            "text/plain": [
              "99"
            ]
          },
          "metadata": {
            "tags": []
          },
          "execution_count": 82
        }
      ]
    },
    {
      "cell_type": "code",
      "metadata": {
        "colab": {
          "base_uri": "https://localhost:8080/",
          "height": 35
        },
        "id": "aanxnbZ89GLk",
        "outputId": "a97a6e05-93f9-4899-d385-0cf6930ae4eb"
      },
      "source": [
        "list2[-1]"
      ],
      "execution_count": null,
      "outputs": [
        {
          "output_type": "execute_result",
          "data": {
            "application/vnd.google.colaboratory.intrinsic+json": {
              "type": "string"
            },
            "text/plain": [
              "'Classes'"
            ]
          },
          "metadata": {
            "tags": []
          },
          "execution_count": 83
        }
      ]
    },
    {
      "cell_type": "markdown",
      "metadata": {
        "id": "rQtotC-a6gwo"
      },
      "source": [
        "## Accessing list element using Slice Operator\n",
        "\n",
        "\n",
        "The slice operator(:) helps us to access the elements of the list **within a range** of specified index values."
      ]
    },
    {
      "cell_type": "code",
      "metadata": {
        "colab": {
          "base_uri": "https://localhost:8080/"
        },
        "id": "tTGzvzhE6gBV",
        "outputId": "7052e978-5a81-4b22-9012-797e2f7f3adb"
      },
      "source": [
        "list1[0:2]"
      ],
      "execution_count": null,
      "outputs": [
        {
          "output_type": "execute_result",
          "data": {
            "text/plain": [
              "[90, 95]"
            ]
          },
          "metadata": {
            "tags": []
          },
          "execution_count": 84
        }
      ]
    },
    {
      "cell_type": "code",
      "metadata": {
        "colab": {
          "base_uri": "https://localhost:8080/"
        },
        "id": "L43OUn1P2279",
        "outputId": "d7164e94-43f7-4aee-aab6-ebe448f53726"
      },
      "source": [
        "\n",
        "list2[0:2]"
      ],
      "execution_count": null,
      "outputs": [
        {
          "output_type": "execute_result",
          "data": {
            "text/plain": [
              "['WhiteHatJr', 'Coding']"
            ]
          },
          "metadata": {
            "tags": []
          },
          "execution_count": 85
        }
      ]
    },
    {
      "cell_type": "markdown",
      "metadata": {
        "id": "lm7v5tD7_dMl"
      },
      "source": [
        "**Note**: To get all the values of the list using slice operator we should specify the \"stop index\" one more than the length of the element."
      ]
    },
    {
      "cell_type": "code",
      "metadata": {
        "colab": {
          "base_uri": "https://localhost:8080/"
        },
        "id": "cwS0gqa_9KWd",
        "outputId": "15d70568-5f63-45b1-f03e-9ca8291ef4cb"
      },
      "source": [
        "list1[0:5]"
      ],
      "execution_count": null,
      "outputs": [
        {
          "output_type": "execute_result",
          "data": {
            "text/plain": [
              "[90, 95, 92, 97, 99]"
            ]
          },
          "metadata": {
            "tags": []
          },
          "execution_count": 86
        }
      ]
    },
    {
      "cell_type": "code",
      "metadata": {
        "colab": {
          "base_uri": "https://localhost:8080/"
        },
        "id": "4s5pNyr53td2",
        "outputId": "5b3c1352-4674-480a-a73b-747cd4f65e80"
      },
      "source": [
        "\n",
        "list2[0:3]"
      ],
      "execution_count": null,
      "outputs": [
        {
          "output_type": "execute_result",
          "data": {
            "text/plain": [
              "['WhiteHatJr', 'Coding', 'Classes']"
            ]
          },
          "metadata": {
            "tags": []
          },
          "execution_count": 87
        }
      ]
    },
    {
      "cell_type": "markdown",
      "metadata": {
        "id": "R6EgFsx312PY"
      },
      "source": [
        "### Slice Operator With Negative Index"
      ]
    },
    {
      "cell_type": "code",
      "metadata": {
        "colab": {
          "base_uri": "https://localhost:8080/"
        },
        "id": "CG-BDFGgM50r",
        "outputId": "cdffb873-3ff2-4653-8275-02f0c3d63777"
      },
      "source": [
        "list1[-5:-3]"
      ],
      "execution_count": null,
      "outputs": [
        {
          "output_type": "execute_result",
          "data": {
            "text/plain": [
              "[90, 95]"
            ]
          },
          "metadata": {
            "tags": []
          },
          "execution_count": 88
        }
      ]
    },
    {
      "cell_type": "code",
      "metadata": {
        "colab": {
          "base_uri": "https://localhost:8080/"
        },
        "id": "T7hLnQXqt2jh",
        "outputId": "93f4812e-1878-4686-ab47-8d678c71af7a"
      },
      "source": [
        "list1[1:3]"
      ],
      "execution_count": null,
      "outputs": [
        {
          "output_type": "execute_result",
          "data": {
            "text/plain": [
              "[95, 92]"
            ]
          },
          "metadata": {
            "tags": []
          },
          "execution_count": 89
        }
      ]
    },
    {
      "cell_type": "code",
      "metadata": {
        "colab": {
          "base_uri": "https://localhost:8080/"
        },
        "id": "CCfs-VYRJlzM",
        "outputId": "b0bb172a-6da4-42f2-e113-d8b60e16e7dd"
      },
      "source": [
        "list1[-4:-2]"
      ],
      "execution_count": null,
      "outputs": [
        {
          "output_type": "execute_result",
          "data": {
            "text/plain": [
              "[95, 92]"
            ]
          },
          "metadata": {
            "tags": []
          },
          "execution_count": 90
        }
      ]
    },
    {
      "cell_type": "markdown",
      "metadata": {
        "id": "0-SPDEBDNKGG"
      },
      "source": [
        "## For Loops"
      ]
    },
    {
      "cell_type": "markdown",
      "metadata": {
        "id": "5zdXwX9E4PaB"
      },
      "source": [
        "\n",
        "**Syntax 1** :\n",
        "```\n",
        "for repetition_var in sequence:\n",
        "    statement 1\n",
        "    statement 2\n",
        "    .....\n",
        "    .....\n",
        "    .....\n",
        "    statement 10\n",
        "```\n",
        "**Syntax 2** :\n",
        "\n",
        "\n",
        "\n",
        "```\n",
        "for repetition_var in range(start_val, end_val, steps):\n",
        "    statement 1\n",
        "    statement 2\n",
        "    .....\n",
        "    .....\n",
        "    .....\n",
        "    statement 10\n",
        "```\n",
        "\n",
        "\n"
      ]
    },
    {
      "cell_type": "markdown",
      "metadata": {
        "id": "gV-SAcx35waS"
      },
      "source": [
        "## Keywords:\n",
        "\n",
        "  >**for** : the \"for\" keyoword is used to mark the begining of the for loop\n",
        "\n",
        "  >**in** :\n",
        "\n",
        "## Variables:\n",
        "\n",
        "  >**repetition_var** :\n",
        "\n",
        "\n",
        "  >**sequence** :\n"
      ]
    },
    {
      "cell_type": "markdown",
      "metadata": {
        "id": "l5vGzm3MagJs"
      },
      "source": [
        "## Accessing list element using For Loop"
      ]
    }
  ]
}